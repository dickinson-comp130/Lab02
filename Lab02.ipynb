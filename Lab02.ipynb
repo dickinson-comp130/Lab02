{
 "cells": [
  {
   "cell_type": "markdown",
   "metadata": {},
   "source": [
    "# Lab 02 - Input, Computations & Errors\n",
    "**COMP130 - Introduction to Computing**  \n",
    "**Dickinson College**  "
   ]
  },
  {
   "cell_type": "markdown",
   "metadata": {},
   "source": [
    "### Names:"
   ]
  },
  {
   "cell_type": "markdown",
   "metadata": {},
   "source": []
  },
  {
   "cell_type": "markdown",
   "metadata": {},
   "source": [
    "### Understanding Sequential Execution & State"
   ]
  },
  {
   "cell_type": "markdown",
   "metadata": {},
   "source": [
    "The statements within a code cell are executed from top to bottom in the order in which they appear.  The code cell below illustrates this as the order of the output matches the order of the print statements that generates it."
   ]
  },
  {
   "cell_type": "code",
   "execution_count": null,
   "metadata": {},
   "outputs": [],
   "source": [
    "print(\"Who's on first.\")\n",
    "print(\"What's on second.\")\n",
    "print(\"I Don't Know is on third.\")"
   ]
  },
  {
   "cell_type": "markdown",
   "metadata": {},
   "source": [
    "__Q1:__ Rearrange the print statements above so that the output lists *second* first, *first* last and *third* second."
   ]
  },
  {
   "cell_type": "code",
   "execution_count": null,
   "metadata": {},
   "outputs": [],
   "source": []
  },
  {
   "cell_type": "markdown",
   "metadata": {},
   "source": [
    "When statements including variables are executed they rely on the *state* of the program (i.e. the names and values that appear in a *state diagram*).  When a new variable is created it is added to the state, and when a variable appears in an expression its value is retrieved from the state. Thus, the state of the program can change as additional statements are executed one after the other. The next few questions explore the implications of the way programs create and manipulate their state."
   ]
  },
  {
   "cell_type": "markdown",
   "metadata": {},
   "source": [
    "__Q2:__ Run the code cell below and draw a *state diagram* showing the state of the variables after the execution. Add a picture of your state diagram to the markdown cell below the code.  Recall that the markdown for adding a picture will be something like: `![Text description of MyPicture](MyPicture.jpeg)`"
   ]
  },
  {
   "cell_type": "code",
   "execution_count": null,
   "metadata": {},
   "outputs": [],
   "source": [
    "account_balance=100\n",
    "interest_rate=0.025\n",
    "\n",
    "print(account_balance)\n",
    "print(interest_rate)"
   ]
  },
  {
   "cell_type": "markdown",
   "metadata": {},
   "source": []
  },
  {
   "cell_type": "markdown",
   "metadata": {},
   "source": [
    "__Q3:__ Run the code cell below and update your state diagram to reflect the execution of the following statement.  Add a picture of your updated state diagram to the markdown cell below."
   ]
  },
  {
   "cell_type": "code",
   "execution_count": null,
   "metadata": {},
   "outputs": [],
   "source": [
    "interest = account_balance * interest_rate\n",
    "\n",
    "print(interest)"
   ]
  },
  {
   "cell_type": "markdown",
   "metadata": {},
   "source": []
  },
  {
   "cell_type": "markdown",
   "metadata": {},
   "source": [
    "__Q4:__ When executing the statement `interest = account_balance * interest_rate` what values does the Python interpreter use for `account_balance` and `interest_rate`? Where does it find those values?"
   ]
  },
  {
   "cell_type": "markdown",
   "metadata": {},
   "source": []
  },
  {
   "cell_type": "markdown",
   "metadata": {},
   "source": [
    "__Q5:__ Consider the assignment statement below.  \n",
    "\n",
    "`account_balance = account_balance + interest`\n",
    "\n",
    "It looks a little different in that the variable `account_balance` appears both on the left and the right sides. However, the Python interpreter treats this assignment statement just like any other.  It evaluates the expression on the right side and then assigns the resulting value to the variable on the left side. Note that this only happens once before moving on to the next statement (if one exists), thus avoiding an endless cycle of reevaluating the expression on the right and then re-updating the variable on the left.\n",
    "\n",
    "Using this fact, update your state diagram to show what it would look like after the execution of the above statement.  Add a picture of your updated state diagram to the markdown cell below."
   ]
  },
  {
   "cell_type": "markdown",
   "metadata": {},
   "source": []
  },
  {
   "cell_type": "markdown",
   "metadata": {},
   "source": [
    "__Q6:__ Use the code cell below to execute the statement from __Q5__ followed by a statement that prints the `account_balance`.  Use the result to check your answer to __Q5__ and update it if necessary."
   ]
  },
  {
   "cell_type": "code",
   "execution_count": null,
   "metadata": {},
   "outputs": [],
   "source": []
  },
  {
   "cell_type": "markdown",
   "metadata": {
    "deletable": false,
    "editable": false,
    "run_control": {
     "frozen": true
    }
   },
   "source": [
    "__Q7:__ The statements below were written to increase the interest rate on the account. Does this code have the intended effect? Why not? What effect would these statements have on the state diagram from __Q5__?"
   ]
  },
  {
   "cell_type": "code",
   "execution_count": null,
   "metadata": {
    "deletable": false,
    "editable": false
   },
   "outputs": [],
   "source": [
    "intrest_rate=interest_rate+0.01\n",
    "print(interest_rate)"
   ]
  },
  {
   "cell_type": "markdown",
   "metadata": {},
   "source": []
  },
  {
   "cell_type": "markdown",
   "metadata": {},
   "source": [
    "The following few questions will give you some practice thinking about sequential program execution and state."
   ]
  },
  {
   "cell_type": "markdown",
   "metadata": {},
   "source": [
    "__Q8:__ Consider the following Python statements:\n",
    "```python\n",
    "a=4\n",
    "print(c)\n",
    "c=c*3\n",
    "b=3\n",
    "c=a+b\n",
    "```\n",
    "Rearrange the above statements into the code cell below so that the printed result is 21.  Use each statement only once."
   ]
  },
  {
   "cell_type": "code",
   "execution_count": null,
   "metadata": {},
   "outputs": [],
   "source": []
  },
  {
   "cell_type": "markdown",
   "metadata": {},
   "source": [
    "__Q9:__ Consider the following Python statements:\n",
    "```python \n",
    "x=x*2\n",
    "print(x)\n",
    "x=1\n",
    "x=x+2\n",
    "x=x-1\n",
    "```\n",
    "Rearrange the above statements into the code cell below so that the printed result is 19.  You may use statements more than once."
   ]
  },
  {
   "cell_type": "code",
   "execution_count": null,
   "metadata": {},
   "outputs": [],
   "source": []
  },
  {
   "cell_type": "markdown",
   "metadata": {},
   "source": [
    "### Understanding State in Jupyter Notebooks"
   ]
  },
  {
   "cell_type": "markdown",
   "metadata": {},
   "source": [
    "The *state* of the Python code in a Jupyter notebook is cumulative across all execution of the code cells.  This means that if variables are shared across code cells and the cells are run out of order or are run multiple times the results can be difficult to interpret.  We will usually try to ensure that this doesn't happen.  But occasionally you will find yourself in such a situation.  So the next few questions will create such a situation and then show you how to resolve it."
   ]
  },
  {
   "cell_type": "markdown",
   "metadata": {},
   "source": [
    "__Q10:__ What will happen if you run the second code cell below before running the first one?"
   ]
  },
  {
   "cell_type": "code",
   "execution_count": null,
   "metadata": {},
   "outputs": [],
   "source": [
    "z=1"
   ]
  },
  {
   "cell_type": "code",
   "execution_count": null,
   "metadata": {},
   "outputs": [],
   "source": [
    "z=z+2\n",
    "print(z)"
   ]
  },
  {
   "cell_type": "markdown",
   "metadata": {},
   "source": [
    "\n"
   ]
  },
  {
   "cell_type": "markdown",
   "metadata": {},
   "source": [
    "__Q11:__ Run the first cell above and then the second cell.  Now run just the second cell again.  What happens? Why?"
   ]
  },
  {
   "cell_type": "markdown",
   "metadata": {},
   "source": []
  },
  {
   "cell_type": "markdown",
   "metadata": {},
   "source": [
    "__Q12:__ What happens if you run the first cell and then the second cell again right after the first? Why?"
   ]
  },
  {
   "cell_type": "markdown",
   "metadata": {},
   "source": []
  },
  {
   "cell_type": "markdown",
   "metadata": {},
   "source": [
    "Sometimes when the cells of a notebook get into a state that is confusing or inconsistent it is easiest to start the notebook over.  The *Restart and Run All* option on the *Kerenel* menu us usually the easiest option.  It will clear the notebook state (i.e. and empty *state diagram*) and then run each cell in turn from the top down. There are a number of other options on the *Cell* and *Kernel* menus that do similar things.  Note that none of these actoins will erase the contents of your code and markdown cells so you can safely experiment with them."
   ]
  },
  {
   "cell_type": "markdown",
   "metadata": {},
   "source": [
    "__Q13:__ Choose the *Restart and Run All* option from the *Kernel* menu.  What value is output from the cells below __Q10:__ after this *Restart*? Why?"
   ]
  },
  {
   "cell_type": "markdown",
   "metadata": {},
   "source": []
  },
  {
   "cell_type": "markdown",
   "metadata": {},
   "source": [
    "### String Operations"
   ]
  },
  {
   "cell_type": "markdown",
   "metadata": {},
   "source": [
    "The code cell below defines a number of string variables. Run that code cell to add those variables to the *state*.  The following questions then ask you to use the string operations `+` and `*`, creating additional string variables, and using string literals to form new strings.  In each case try to use the simplest expression that you can."
   ]
  },
  {
   "cell_type": "code",
   "execution_count": null,
   "metadata": {},
   "outputs": [],
   "source": [
    "best=\"The best\"\n",
    "na=\"na\"\n",
    "hey=\"hey\"\n",
    "bye=\"goodbye\""
   ]
  },
  {
   "cell_type": "markdown",
   "metadata": {},
   "source": [
    "__Q14:__ The Steam 1969 classic is still heard at high school sports games everywhere and taunts opponents with \"[na-na-na-na hey-hey-hey goodbye](https://www.youtube.com/watch?v=QaG2Acg8n60)\" too many times to count.  Write statements below that construct a string holding this lyric and print it."
   ]
  },
  {
   "cell_type": "code",
   "execution_count": null,
   "metadata": {},
   "outputs": [],
   "source": []
  },
  {
   "cell_type": "markdown",
   "metadata": {},
   "source": [
    "__Q15:__ The Foo Fighters 2005 hit \"[Best of You](https://www.air.tv/watch?v=FmBFNF-NR3ei_xvvcw1dgQ)\" has the lyrics \"The best, The best, The best, The best, of you\". Write statements below that construct a string holding this lyric and print it."
   ]
  },
  {
   "cell_type": "code",
   "execution_count": null,
   "metadata": {},
   "outputs": [],
   "source": []
  },
  {
   "cell_type": "markdown",
   "metadata": {},
   "source": [
    "__Q16:__ There's a lot of \"na's\" in music... Reaching way back... Journey's 1979 hit \"[Lovin' Touchin' Squeezin'](https://youtu.be/VdAomcaujB4)\" has the phrase \"na-na-nana-na\" that is repeated something like a million times... Write statements below that construct a string holding this lyric and print it."
   ]
  },
  {
   "cell_type": "code",
   "execution_count": null,
   "metadata": {},
   "outputs": [],
   "source": []
  },
  {
   "cell_type": "markdown",
   "metadata": {},
   "source": [
    "### Kinds of Errors"
   ]
  },
  {
   "cell_type": "markdown",
   "metadata": {},
   "source": [
    "__Q17:__ What are the names of the three kinds of errors that occur in programs?"
   ]
  },
  {
   "cell_type": "markdown",
   "metadata": {},
   "source": []
  },
  {
   "cell_type": "markdown",
   "metadata": {},
   "source": [
    "__Q18:__ The code in the cell below contains an error.  Which of the three kinds of error is it? Why do you think it is that kind of error?"
   ]
  },
  {
   "cell_type": "code",
   "execution_count": null,
   "metadata": {},
   "outputs": [],
   "source": [
    "radius=2.5\n",
    "area=3.14*radius*radius*radius\n",
    "print(area)"
   ]
  },
  {
   "cell_type": "markdown",
   "metadata": {},
   "source": []
  },
  {
   "cell_type": "markdown",
   "metadata": {},
   "source": [
    "__Q19:__ The code in the cell below contains an error.  Which of the three kinds of error is it? Why do you think it is that kind of error?"
   ]
  },
  {
   "cell_type": "code",
   "execution_count": null,
   "metadata": {},
   "outputs": [],
   "source": [
    "first_name=\"Alan\"\n",
    "last_name=\"Turing\n",
    "full_name=first_name + \" \" + last_name\n",
    "print(full_name)"
   ]
  },
  {
   "cell_type": "markdown",
   "metadata": {},
   "source": []
  },
  {
   "cell_type": "markdown",
   "metadata": {},
   "source": [
    "__Q20:__ The code in the cell below contains an error.  Which of the three kinds of error is it? Why do you think it is that kind of error?"
   ]
  },
  {
   "cell_type": "code",
   "execution_count": null,
   "metadata": {},
   "outputs": [],
   "source": [
    "total=9.00\n",
    "dollars=total//1.00\n",
    "coins=total%1.00\n",
    "pct_coins=dollars/coins\n",
    "print(pct_coins)"
   ]
  },
  {
   "cell_type": "markdown",
   "metadata": {},
   "source": []
  },
  {
   "cell_type": "markdown",
   "metadata": {},
   "source": [
    "__Q21:__ The code in the cell below contains an error.  Which of the three kinds of error is it? Why do you think it is that kind of error?"
   ]
  },
  {
   "cell_type": "code",
   "execution_count": null,
   "metadata": {},
   "outputs": [],
   "source": [
    "price=10.50\n",
    "discount=\"5%\"\n",
    "cost=price - price*discount\n",
    "print(cost)"
   ]
  },
  {
   "cell_type": "markdown",
   "metadata": {},
   "source": []
  },
  {
   "cell_type": "markdown",
   "metadata": {},
   "source": [
    "### Getting User Input"
   ]
  },
  {
   "cell_type": "markdown",
   "metadata": {},
   "source": [
    "Run the code cell below and respond to the prompts."
   ]
  },
  {
   "cell_type": "code",
   "execution_count": null,
   "metadata": {},
   "outputs": [],
   "source": [
    "first_name=input(\"First name:\")\n",
    "last_name=input(\"Last name:\\n\")\n",
    "print(\"Hello, \" + first_name + \" \" + last_name + \" its nice to meet you.\")"
   ]
  },
  {
   "cell_type": "code",
   "execution_count": null,
   "metadata": {},
   "outputs": [],
   "source": []
  },
  {
   "cell_type": "markdown",
   "metadata": {},
   "source": [
    "__Q22:__ What is the effect of the `\\n` character at the end of the second `input` function prompt?"
   ]
  },
  {
   "cell_type": "markdown",
   "metadata": {},
   "source": []
  },
  {
   "cell_type": "markdown",
   "metadata": {},
   "source": [
    "__Q23:__ What happens if you include a `\\n` in the middle of a prompt?  In a string that you are printing using the `print` function?"
   ]
  },
  {
   "cell_type": "code",
   "execution_count": null,
   "metadata": {},
   "outputs": [],
   "source": []
  },
  {
   "cell_type": "markdown",
   "metadata": {},
   "source": [
    "__Q24:__ Run the code cell above again but do not respond to the \"First Name:\" prompt.  What is displayed in the `[ ]` to the left of the code cell?  Now respond to the prompts.  What is displayed in the `[ ]` after you respond to the prompts?"
   ]
  },
  {
   "cell_type": "markdown",
   "metadata": {},
   "source": []
  },
  {
   "cell_type": "markdown",
   "metadata": {},
   "source": [
    "__Q25:__ A `[*]` to the left of a code block indicates that it is currently running (or waiting to run) the statements that it contains.  In this case, the cell above is waiting for the user to type in some input. Later we'll see the `[*]` designation when the computations in a cell take a long time.  \n",
    "\n",
    "If a cell is stuck with a `[*]` and you would like to stop it you can use the *Interrupt* option on the *Kernel* menu.  \n",
    "\n",
    "What happens if the cell above is running and waiting for input and you use the *Interrupt* option?  What happens if you then run the cell again?"
   ]
  },
  {
   "cell_type": "markdown",
   "metadata": {},
   "source": []
  },
  {
   "cell_type": "markdown",
   "metadata": {},
   "source": [
    "__Q26:__ When user input is assigned into a variable, what is its type by default?"
   ]
  },
  {
   "cell_type": "code",
   "execution_count": null,
   "metadata": {},
   "outputs": [],
   "source": []
  },
  {
   "cell_type": "markdown",
   "metadata": {},
   "source": [
    "__Q27:__ Common lore says that dogs age 7 times faster than humans.  Thus, one dog year is said to be equivalent to 7 human years.  Write a Python program in the code cell below that prompts the user for a dog's age and then displays the dog's age in dog year (e.g. for a 5 year old dog the program will output 35)."
   ]
  },
  {
   "cell_type": "code",
   "execution_count": null,
   "metadata": {},
   "outputs": [],
   "source": []
  },
  {
   "cell_type": "markdown",
   "metadata": {},
   "source": [
    "__Q28:__ What happens to your program in __Q27__ if the user enters a string value like `six` or a decimal number like `2.5` instead of an integer value?"
   ]
  },
  {
   "cell_type": "markdown",
   "metadata": {},
   "source": []
  },
  {
   "cell_type": "markdown",
   "metadata": {},
   "source": [
    "### Exercises"
   ]
  },
  {
   "cell_type": "markdown",
   "metadata": {},
   "source": [
    "Write a program that performs each of the following computations. When displaying prompts for the user be sure that they make it clear what the user should enter and the format they should use.  When displaying output use extra `print` statements to clearly label the output for the user."
   ]
  },
  {
   "cell_type": "markdown",
   "metadata": {},
   "source": [
    "__Q29:__ The Humanitarian Free and Open Source (HFOSS) project [MIFOS] aims \"to create a world ... where each person has access to the financial resources needed to create a better life for themselves and their family.\" MIFOS is used internationally and thus must be able to convert between different currencies. To get a feel for a small bit of the code that would be inside MIFOS, write a program that prompts the user for an integer amount of money in one currency (e.g. Coratian Kuna), then prints the amount of money in a new currency (e.g. Guatemalan Quetzal).  You can find a list of currencies and conversion rates on [XE.com](https://www.xe.com)."
   ]
  },
  {
   "cell_type": "code",
   "execution_count": null,
   "metadata": {},
   "outputs": [],
   "source": []
  },
  {
   "cell_type": "markdown",
   "metadata": {},
   "source": [
    "__Q30:__ If you invest money today, how much money will you have in the future? The [Time Value of Money (TVM)](https://www.investopedia.com/terms/t/timevalueofmoney.asp) is a way of talking about the future value of an amount of money received and invested today.  Write a program that prompts the user for an integer amount of money, an integer interest rate (e.g. 4 for 4%) and a whole number of years for the investment and prints the ending value of the investment. You may assume that interest is compounded monthly (i.e. there are 12 compounding periods per year). "
   ]
  },
  {
   "cell_type": "code",
   "execution_count": null,
   "metadata": {},
   "outputs": [],
   "source": []
  },
  {
   "cell_type": "markdown",
   "metadata": {},
   "source": [
    "__Q31:__ How do we know when the Christian Holiday Easter will occur? It turns out that [the answer is not at all simple](https://www.timeanddate.com/calendar/determining-easter-date.html).  However, on April 20, 1876, the journal Nature published a much simplified algorithm [To find Easter *for ever*](https://books.google.com/books?id=H4ICAAAAIAAJ&pg=PA487#v=onepage&q&f=false).  Write a program that prompts the user for a year and then uses the simplified algorithm to compute and prints out the month and day on which Easter will occur in the specified year."
   ]
  },
  {
   "cell_type": "code",
   "execution_count": null,
   "metadata": {},
   "outputs": [],
   "source": []
  }
 ],
 "metadata": {
  "kernelspec": {
   "display_name": "Python 3",
   "language": "python",
   "name": "python3"
  },
  "language_info": {
   "codemirror_mode": {
    "name": "ipython",
    "version": 3
   },
   "file_extension": ".py",
   "mimetype": "text/x-python",
   "name": "python",
   "nbconvert_exporter": "python",
   "pygments_lexer": "ipython3",
   "version": "3.7.3"
  }
 },
 "nbformat": 4,
 "nbformat_minor": 2
}
